{
 "cells": [
  {
   "cell_type": "code",
   "execution_count": 31,
   "metadata": {},
   "outputs": [],
   "source": [
    "import pandas as pd\n",
    "import numpy as np #для матричных вычислений\n",
    "\n",
    "from sklearn.model_selection import train_test_split #сплитование выборки\n",
    "from sklearn import linear_model #линейные модели\n",
    "from sklearn import metrics #метрики\n",
    "from sklearn import preprocessing #предобработка\n",
    "from sklearn import ensemble #ансамбли\n",
    "\n",
    "from sklearn.model_selection import GridSearchCV\n",
    "from sklearn.model_selection import RandomizedSearchCV\n",
    "\n",
    "from sklearn.model_selection import cross_val_score\n",
    "import hyperopt\n",
    "from hyperopt import hp, fmin, tpe, Trials"
   ]
  },
  {
   "cell_type": "code",
   "execution_count": 32,
   "metadata": {},
   "outputs": [
    {
     "data": {
      "text/html": [
       "<div>\n",
       "<style scoped>\n",
       "    .dataframe tbody tr th:only-of-type {\n",
       "        vertical-align: middle;\n",
       "    }\n",
       "\n",
       "    .dataframe tbody tr th {\n",
       "        vertical-align: top;\n",
       "    }\n",
       "\n",
       "    .dataframe thead th {\n",
       "        text-align: right;\n",
       "    }\n",
       "</style>\n",
       "<table border=\"1\" class=\"dataframe\">\n",
       "  <thead>\n",
       "    <tr style=\"text-align: right;\">\n",
       "      <th></th>\n",
       "      <th>Activity</th>\n",
       "      <th>D1</th>\n",
       "      <th>D2</th>\n",
       "      <th>D3</th>\n",
       "      <th>D4</th>\n",
       "      <th>D5</th>\n",
       "      <th>D6</th>\n",
       "      <th>D7</th>\n",
       "      <th>D8</th>\n",
       "      <th>D9</th>\n",
       "      <th>...</th>\n",
       "      <th>D1767</th>\n",
       "      <th>D1768</th>\n",
       "      <th>D1769</th>\n",
       "      <th>D1770</th>\n",
       "      <th>D1771</th>\n",
       "      <th>D1772</th>\n",
       "      <th>D1773</th>\n",
       "      <th>D1774</th>\n",
       "      <th>D1775</th>\n",
       "      <th>D1776</th>\n",
       "    </tr>\n",
       "  </thead>\n",
       "  <tbody>\n",
       "    <tr>\n",
       "      <th>0</th>\n",
       "      <td>1</td>\n",
       "      <td>0.000000</td>\n",
       "      <td>0.497009</td>\n",
       "      <td>0.10</td>\n",
       "      <td>0.0</td>\n",
       "      <td>0.132956</td>\n",
       "      <td>0.678031</td>\n",
       "      <td>0.273166</td>\n",
       "      <td>0.585445</td>\n",
       "      <td>0.743663</td>\n",
       "      <td>...</td>\n",
       "      <td>0</td>\n",
       "      <td>0</td>\n",
       "      <td>0</td>\n",
       "      <td>0</td>\n",
       "      <td>0</td>\n",
       "      <td>0</td>\n",
       "      <td>0</td>\n",
       "      <td>0</td>\n",
       "      <td>0</td>\n",
       "      <td>0</td>\n",
       "    </tr>\n",
       "    <tr>\n",
       "      <th>1</th>\n",
       "      <td>1</td>\n",
       "      <td>0.366667</td>\n",
       "      <td>0.606291</td>\n",
       "      <td>0.05</td>\n",
       "      <td>0.0</td>\n",
       "      <td>0.111209</td>\n",
       "      <td>0.803455</td>\n",
       "      <td>0.106105</td>\n",
       "      <td>0.411754</td>\n",
       "      <td>0.836582</td>\n",
       "      <td>...</td>\n",
       "      <td>1</td>\n",
       "      <td>1</td>\n",
       "      <td>1</td>\n",
       "      <td>1</td>\n",
       "      <td>0</td>\n",
       "      <td>1</td>\n",
       "      <td>0</td>\n",
       "      <td>0</td>\n",
       "      <td>1</td>\n",
       "      <td>0</td>\n",
       "    </tr>\n",
       "    <tr>\n",
       "      <th>2</th>\n",
       "      <td>1</td>\n",
       "      <td>0.033300</td>\n",
       "      <td>0.480124</td>\n",
       "      <td>0.00</td>\n",
       "      <td>0.0</td>\n",
       "      <td>0.209791</td>\n",
       "      <td>0.610350</td>\n",
       "      <td>0.356453</td>\n",
       "      <td>0.517720</td>\n",
       "      <td>0.679051</td>\n",
       "      <td>...</td>\n",
       "      <td>0</td>\n",
       "      <td>0</td>\n",
       "      <td>0</td>\n",
       "      <td>0</td>\n",
       "      <td>0</td>\n",
       "      <td>0</td>\n",
       "      <td>0</td>\n",
       "      <td>0</td>\n",
       "      <td>0</td>\n",
       "      <td>0</td>\n",
       "    </tr>\n",
       "    <tr>\n",
       "      <th>3</th>\n",
       "      <td>1</td>\n",
       "      <td>0.000000</td>\n",
       "      <td>0.538825</td>\n",
       "      <td>0.00</td>\n",
       "      <td>0.5</td>\n",
       "      <td>0.196344</td>\n",
       "      <td>0.724230</td>\n",
       "      <td>0.235606</td>\n",
       "      <td>0.288764</td>\n",
       "      <td>0.805110</td>\n",
       "      <td>...</td>\n",
       "      <td>0</td>\n",
       "      <td>0</td>\n",
       "      <td>0</td>\n",
       "      <td>0</td>\n",
       "      <td>0</td>\n",
       "      <td>0</td>\n",
       "      <td>0</td>\n",
       "      <td>0</td>\n",
       "      <td>0</td>\n",
       "      <td>0</td>\n",
       "    </tr>\n",
       "    <tr>\n",
       "      <th>4</th>\n",
       "      <td>0</td>\n",
       "      <td>0.100000</td>\n",
       "      <td>0.517794</td>\n",
       "      <td>0.00</td>\n",
       "      <td>0.0</td>\n",
       "      <td>0.494734</td>\n",
       "      <td>0.781422</td>\n",
       "      <td>0.154361</td>\n",
       "      <td>0.303809</td>\n",
       "      <td>0.812646</td>\n",
       "      <td>...</td>\n",
       "      <td>0</td>\n",
       "      <td>0</td>\n",
       "      <td>0</td>\n",
       "      <td>0</td>\n",
       "      <td>0</td>\n",
       "      <td>0</td>\n",
       "      <td>0</td>\n",
       "      <td>0</td>\n",
       "      <td>0</td>\n",
       "      <td>0</td>\n",
       "    </tr>\n",
       "  </tbody>\n",
       "</table>\n",
       "<p>5 rows × 1777 columns</p>\n",
       "</div>"
      ],
      "text/plain": [
       "   Activity        D1        D2    D3   D4        D5        D6        D7  \\\n",
       "0         1  0.000000  0.497009  0.10  0.0  0.132956  0.678031  0.273166   \n",
       "1         1  0.366667  0.606291  0.05  0.0  0.111209  0.803455  0.106105   \n",
       "2         1  0.033300  0.480124  0.00  0.0  0.209791  0.610350  0.356453   \n",
       "3         1  0.000000  0.538825  0.00  0.5  0.196344  0.724230  0.235606   \n",
       "4         0  0.100000  0.517794  0.00  0.0  0.494734  0.781422  0.154361   \n",
       "\n",
       "         D8        D9  ...  D1767  D1768  D1769  D1770  D1771  D1772  D1773  \\\n",
       "0  0.585445  0.743663  ...      0      0      0      0      0      0      0   \n",
       "1  0.411754  0.836582  ...      1      1      1      1      0      1      0   \n",
       "2  0.517720  0.679051  ...      0      0      0      0      0      0      0   \n",
       "3  0.288764  0.805110  ...      0      0      0      0      0      0      0   \n",
       "4  0.303809  0.812646  ...      0      0      0      0      0      0      0   \n",
       "\n",
       "   D1774  D1775  D1776  \n",
       "0      0      0      0  \n",
       "1      0      1      0  \n",
       "2      0      0      0  \n",
       "3      0      0      0  \n",
       "4      0      0      0  \n",
       "\n",
       "[5 rows x 1777 columns]"
      ]
     },
     "execution_count": 32,
     "metadata": {},
     "output_type": "execute_result"
    }
   ],
   "source": [
    "data=pd.read_csv('D:\\Irina\\Data Science\\ML\\Оптимизация гиперпараметров модели\\data\\_train_sem09 (1).csv')\n",
    "data.head()"
   ]
  },
  {
   "attachments": {},
   "cell_type": "markdown",
   "metadata": {},
   "source": [
    "Создаем матрицу наблюдений $X$ и вектор ответов $y$."
   ]
  },
  {
   "cell_type": "code",
   "execution_count": 33,
   "metadata": {},
   "outputs": [],
   "source": [
    "X = data.drop(['Activity'], axis=1)\n",
    "y = data['Activity']"
   ]
  },
  {
   "attachments": {},
   "cell_type": "markdown",
   "metadata": {},
   "source": [
    "Разделяем выборку на тренировочную и тестовую в соотношении 80/20. Для сохранения соотношений целевого признака используем параметр stratify (стратифицированное разбиение). "
   ]
  },
  {
   "cell_type": "code",
   "execution_count": 34,
   "metadata": {},
   "outputs": [
    {
     "name": "stdout",
     "output_type": "stream",
     "text": [
      "X_train:(3000, 1776)\n",
      "y_train:(3000,)\n",
      "X_test:(751, 1776)\n",
      "y_test:(751,)\n"
     ]
    }
   ],
   "source": [
    "X_train, X_test, y_train, y_test = train_test_split(X, y, stratify=y, random_state = 42, test_size = 0.2)\n",
    "print('X_train:{}'.format(X_train.shape))\n",
    "print('y_train:{}'.format(y_train.shape))\n",
    "print('X_test:{}'.format(X_test.shape))\n",
    "print('y_test:{}'.format(y_test.shape))"
   ]
  },
  {
   "cell_type": "markdown",
   "metadata": {},
   "source": [
    "Для подбора гиперпараметров разделим тестовую выборку на валидационную и тестовую."
   ]
  },
  {
   "cell_type": "code",
   "execution_count": 35,
   "metadata": {},
   "outputs": [
    {
     "name": "stdout",
     "output_type": "stream",
     "text": [
      "X_valid:(375, 1776)\n",
      "X_test_2:(376, 1776)\n"
     ]
    }
   ],
   "source": [
    "X_valid, X_test_2, y_valid, y_test_2 = train_test_split(X_test, y_test, stratify=y_test, random_state = 42, test_size = 0.5)\n",
    "print('X_valid:{}'.format(X_valid.shape))\n",
    "print('X_test_2:{}'.format(X_test_2.shape))"
   ]
  },
  {
   "attachments": {},
   "cell_type": "markdown",
   "metadata": {},
   "source": [
    "Обучим модель на всех данных при помощи логистической регрессии"
   ]
  },
  {
   "cell_type": "code",
   "execution_count": 36,
   "metadata": {},
   "outputs": [
    {
     "name": "stdout",
     "output_type": "stream",
     "text": [
      "f1_score на тренировочном наборе: 0.88\n",
      "f1_score на тестовом наборе: 0.78\n"
     ]
    },
    {
     "name": "stderr",
     "output_type": "stream",
     "text": [
      "c:\\Users\\oikuz\\AppData\\Local\\Programs\\Python\\Python39\\lib\\site-packages\\sklearn\\linear_model\\_logistic.py:444: ConvergenceWarning: lbfgs failed to converge (status=1):\n",
      "STOP: TOTAL NO. of ITERATIONS REACHED LIMIT.\n",
      "\n",
      "Increase the number of iterations (max_iter) or scale the data as shown in:\n",
      "    https://scikit-learn.org/stable/modules/preprocessing.html\n",
      "Please also refer to the documentation for alternative solver options:\n",
      "    https://scikit-learn.org/stable/modules/linear_model.html#logistic-regression\n",
      "  n_iter_i = _check_optimize_result(\n"
     ]
    }
   ],
   "source": [
    "#Создаем объект класса логистическая регрессия\n",
    "log_reg = linear_model.LogisticRegression(max_iter=50)\n",
    "\n",
    "#Обучаем модель\n",
    "log_reg.fit(X_train, y_train)\n",
    "y_train_pred=log_reg.predict(X_train)\n",
    "y_test_pred = log_reg.predict(X_test)\n",
    "#Выводим значения метрики\n",
    "print('f1_score на тренировочном наборе: {:.2f}'.format(metrics.f1_score(y_train, y_train_pred)))\n",
    "print('f1_score на тестовом наборе: {:.2f}'.format(metrics.f1_score(y_test, y_test_pred)))"
   ]
  },
  {
   "attachments": {},
   "cell_type": "markdown",
   "metadata": {},
   "source": [
    "Проделаем аналогичное для RandomForestClassifier()."
   ]
  },
  {
   "cell_type": "code",
   "execution_count": 37,
   "metadata": {},
   "outputs": [
    {
     "name": "stdout",
     "output_type": "stream",
     "text": [
      "f1_score на тренировочном наборе: 1.00\n",
      "f1_score на тестовом наборе: 0.80\n"
     ]
    }
   ],
   "source": [
    "#Создаем объект класса случайный лес\n",
    "rf = ensemble.RandomForestClassifier(random_state=42)\n",
    "\n",
    "#Обучаем модель\n",
    "rf.fit(X_train, y_train)\n",
    "#Выводим значения метрики \n",
    "y_train_pred = rf.predict(X_train)\n",
    "print('f1_score на тренировочном наборе: {:.2f}'.format(metrics.f1_score(y_train, y_train_pred)))\n",
    "y_test_pred = rf.predict(X_test)\n",
    "print('f1_score на тестовом наборе: {:.2f}'.format(metrics.f1_score(y_test, y_test_pred)))"
   ]
  },
  {
   "attachments": {},
   "cell_type": "markdown",
   "metadata": {},
   "source": [
    "На полном наборе данных метрика выше для RandomForestClassifier()."
   ]
  },
  {
   "attachments": {},
   "cell_type": "markdown",
   "metadata": {},
   "source": [
    "Подберем гиперпараметры методом GridSeachCV для логистической регрессии"
   ]
  },
  {
   "cell_type": "code",
   "execution_count": 38,
   "metadata": {},
   "outputs": [
    {
     "name": "stdout",
     "output_type": "stream",
     "text": [
      "CPU times: total: 1.5 s\n",
      "Wall time: 16.9 s\n",
      "f1_score на тестовом наборе: 0.74\n",
      "Наилучшие значения гиперпараметров: {'C': 0.3, 'penalty': 'l1', 'solver': 'saga'}\n"
     ]
    },
    {
     "name": "stderr",
     "output_type": "stream",
     "text": [
      "c:\\Users\\oikuz\\AppData\\Local\\Programs\\Python\\Python39\\lib\\site-packages\\sklearn\\linear_model\\_sag.py:350: ConvergenceWarning: The max_iter was reached which means the coef_ did not converge\n",
      "  warnings.warn(\n"
     ]
    }
   ],
   "source": [
    "param_grid = [\n",
    "              {'penalty': ['l2', 'none'] , # тип регуляризации\n",
    "              'solver': ['lbfgs', 'sag'], # алгоритм оптимизации\n",
    "               'C': [0.01, 0.1, 0.3, 0.5, 0.7, 0.9, 1]}, # уровень силы регурялизации\n",
    "              \n",
    "              {'penalty': ['l1', 'l2'] ,\n",
    "              'solver': ['liblinear', 'saga'],\n",
    "               'C': [0.01, 0.1, 0.3, 0.5, 0.7, 0.9, 1]}\n",
    "]\n",
    "grid_search_1 = GridSearchCV(\n",
    "    estimator=linear_model.LogisticRegression(random_state=42, max_iter=50), \n",
    "    param_grid=param_grid, \n",
    "    cv=5, \n",
    "    n_jobs = -1\n",
    ")  \n",
    "%time grid_search_1.fit(X_valid, y_valid) \n",
    "\n",
    "y_test_2_pred = grid_search_1.predict(X_test_2)\n",
    "print('f1_score на тестовом наборе: {:.2f}'.format(metrics.f1_score(y_test_2, y_test_2_pred)))\n",
    "print(\"Наилучшие значения гиперпараметров: {}\".format(grid_search_1.best_params_))"
   ]
  },
  {
   "attachments": {},
   "cell_type": "markdown",
   "metadata": {},
   "source": [
    "Обучение на параметрах, подобранных методом GridSearchCV ухудшило метрику f1"
   ]
  },
  {
   "attachments": {},
   "cell_type": "markdown",
   "metadata": {},
   "source": [
    "Подберем гиперпараметры методом GridSeachCV для случайного леса."
   ]
  },
  {
   "cell_type": "code",
   "execution_count": 39,
   "metadata": {},
   "outputs": [
    {
     "name": "stdout",
     "output_type": "stream",
     "text": [
      "CPU times: total: 5.89 s\n",
      "Wall time: 1min 9s\n",
      "f1_score на тестовом наборе: 0.77\n",
      "Наилучшие значения гиперпараметров: {'max_depth': 20, 'min_samples_leaf': 3, 'n_estimators': 110}\n"
     ]
    }
   ],
   "source": [
    "param_grid = {'n_estimators': list(range(50, 200, 10)),\n",
    "              'min_samples_leaf': [3, 5, 7],\n",
    "              'max_depth': list(np.linspace(10, 50, 5, dtype=int))\n",
    "              }\n",
    "            \n",
    "grid_search_forest = GridSearchCV(\n",
    "    estimator=ensemble.RandomForestClassifier(random_state=42), \n",
    "    param_grid=param_grid, \n",
    "    cv=5, \n",
    "    n_jobs = -1\n",
    ")  \n",
    "%time grid_search_forest.fit(X_valid, y_valid) \n",
    "y_test_2_pred = grid_search_forest.predict(X_test_2)\n",
    "print('f1_score на тестовом наборе: {:.2f}'.format(metrics.f1_score(y_test_2, y_test_2_pred)))\n",
    "print(\"Наилучшие значения гиперпараметров: {}\".format(grid_search_forest.best_params_))"
   ]
  },
  {
   "attachments": {},
   "cell_type": "markdown",
   "metadata": {},
   "source": [
    "Для случайного леса значение метрики так же ухудшилось"
   ]
  },
  {
   "attachments": {},
   "cell_type": "markdown",
   "metadata": {},
   "source": [
    "Подберем гиперпараметры методом RandomizedSearchCV для логистической регрессии"
   ]
  },
  {
   "cell_type": "code",
   "execution_count": 40,
   "metadata": {},
   "outputs": [
    {
     "name": "stdout",
     "output_type": "stream",
     "text": [
      "CPU times: total: 109 ms\n",
      "Wall time: 2.54 s\n",
      "f1_score на тестовом наборе: 0.69\n",
      "Наилучшие значения гиперпараметров: {'solver': 'liblinear', 'penalty': 'l2', 'C': 0.5}\n"
     ]
    }
   ],
   "source": [
    "param_distributions = {'penalty': ['l1', 'l2'] ,\n",
    "              'solver': ['liblinear', 'saga'],\n",
    "               'C': [0.01, 0.1, 0.3, 0.5, 0.7, 0.9, 1]},\n",
    "            \n",
    "random_search = RandomizedSearchCV(\n",
    "    estimator=linear_model.LogisticRegression(random_state=42, max_iter=50), \n",
    "    param_distributions=param_distributions, \n",
    "    cv=5, \n",
    "    n_iter = 10, \n",
    "    n_jobs = -1\n",
    ")  \n",
    "%time random_search.fit(X_valid, y_valid) \n",
    "y_test_2_pred = random_search.predict(X_test_2)\n",
    "print('f1_score на тестовом наборе: {:.2f}'.format(metrics.f1_score(y_test_2, y_test_2_pred)))\n",
    "print(\"Наилучшие значения гиперпараметров: {}\".format(random_search.best_params_))"
   ]
  },
  {
   "attachments": {},
   "cell_type": "markdown",
   "metadata": {},
   "source": [
    "Подбор параметров методом RandomizedSearchCV для логистической регрессии на данный момент показал самые низкие результаты."
   ]
  },
  {
   "attachments": {},
   "cell_type": "markdown",
   "metadata": {},
   "source": [
    "Подберем гиперпараметры методом RandomizedSearchCV для случайного леса"
   ]
  },
  {
   "cell_type": "code",
   "execution_count": 41,
   "metadata": {},
   "outputs": [
    {
     "name": "stdout",
     "output_type": "stream",
     "text": [
      "CPU times: total: 391 ms\n",
      "Wall time: 4.43 s\n",
      "f1_score на тестовом наборе: 0.76\n",
      "Наилучшие значения гиперпараметров: {'n_estimators': 150, 'min_samples_leaf': 5, 'max_depth': 20}\n"
     ]
    }
   ],
   "source": [
    "param_distributions = {'n_estimators': list(range(50, 200, 10)),\n",
    "                       'min_samples_leaf': [3, 5, 7],\n",
    "                       'max_depth': list(np.linspace(10, 50, 5, dtype=int))\n",
    "                       }\n",
    "            \n",
    "random_search_forest = RandomizedSearchCV(\n",
    "    estimator=ensemble.RandomForestClassifier(random_state=42), \n",
    "    param_distributions=param_distributions, \n",
    "    cv=5,\n",
    "    n_iter = 10, \n",
    "    n_jobs = -1\n",
    ")  \n",
    "%time random_search_forest.fit(X_valid, y_valid) \n",
    "y_test_2_pred = random_search_forest.predict(X_test_2)\n",
    "print('f1_score на тестовом наборе: {:.2f}'.format(metrics.f1_score(y_test_2, y_test_2_pred)))\n",
    "print(\"Наилучшие значения гиперпараметров: {}\".format(random_search_forest.best_params_))"
   ]
  },
  {
   "attachments": {},
   "cell_type": "markdown",
   "metadata": {},
   "source": [
    "Для случайного леса получили метрику чуть лучше, чем при методе GridSeachCV, но значительно быстрее."
   ]
  },
  {
   "attachments": {},
   "cell_type": "markdown",
   "metadata": {},
   "source": [
    "Подберем гиперпараметры методом Hyperopt для логистической регрессии"
   ]
  },
  {
   "cell_type": "code",
   "execution_count": 42,
   "metadata": {},
   "outputs": [],
   "source": [
    "random_state = 42\n",
    "def hyperopt_lr(params, cv=5, X=X_valid, y=y_valid, random_state=random_state):\n",
    "    # функция получает комбинацию гиперпараметров в \"params\"\n",
    "    params = {'penalty': str(params['penalty']), \n",
    "              'solver': str(params['solver']), \n",
    "              'C': float(params['C'])\n",
    "              }\n",
    "  \n",
    "    # используем эту комбинацию для построения модели\n",
    "    model = linear_model.LogisticRegression(**params, random_state=random_state)\n",
    "\n",
    "    # обучаем модель\n",
    "    model.fit(X, y)\n",
    "    #score = metrics.f1_score(y,model.predict(X))\n",
    "    score = cross_val_score(model, X, y, cv=cv, scoring=\"f1\", n_jobs=-1).mean()\n",
    "\n",
    "    # метрику необходимо минимизировать, поэтому ставим знак минус\n",
    "    return -score"
   ]
  },
  {
   "cell_type": "code",
   "execution_count": 65,
   "metadata": {},
   "outputs": [
    {
     "name": "stdout",
     "output_type": "stream",
     "text": [
      "CPU times: total: 0 ns\n",
      "Wall time: 0 ns\n"
     ]
    }
   ],
   "source": [
    "%%time\n",
    "\n",
    "# зададим пространство поиска гиперпараметров\n",
    "pen = ['l1', 'l2']\n",
    "sol = ['liblinear', 'saga']\n",
    "space={'penalty': hp.choice('penalty', ['l1', 'l2']), # тип регуляризации\n",
    "       'solver': hp.choice('solver', ['liblinear', 'saga']), # алгоритм оптимизации\n",
    "       'C': hp.uniform('C', low=0.01, high=1) # уровень силы регурялизации\n",
    "      }"
   ]
  },
  {
   "cell_type": "code",
   "execution_count": 68,
   "metadata": {},
   "outputs": [
    {
     "name": "stdout",
     "output_type": "stream",
     "text": [
      " 10%|█         | 2/20 [00:01<00:10,  1.78trial/s, best loss: -0.9778869778869779]"
     ]
    },
    {
     "name": "stderr",
     "output_type": "stream",
     "text": [
      "c:\\Users\\oikuz\\AppData\\Local\\Programs\\Python\\Python39\\lib\\site-packages\\sklearn\\linear_model\\_sag.py:350: ConvergenceWarning: The max_iter was reached which means the coef_ did not converge\n",
      "  warnings.warn(\n",
      "\n"
     ]
    },
    {
     "name": "stdout",
     "output_type": "stream",
     "text": [
      " 20%|██        | 4/20 [00:02<00:08,  1.99trial/s, best loss: -0.9778869778869779]"
     ]
    },
    {
     "name": "stderr",
     "output_type": "stream",
     "text": [
      "c:\\Users\\oikuz\\AppData\\Local\\Programs\\Python\\Python39\\lib\\site-packages\\sklearn\\linear_model\\_sag.py:350: ConvergenceWarning: The max_iter was reached which means the coef_ did not converge\n",
      "  warnings.warn(\n",
      "\n"
     ]
    },
    {
     "name": "stdout",
     "output_type": "stream",
     "text": [
      " 30%|███       | 6/20 [00:02<00:05,  2.34trial/s, best loss: -0.9778869778869779]"
     ]
    },
    {
     "name": "stderr",
     "output_type": "stream",
     "text": [
      "c:\\Users\\oikuz\\AppData\\Local\\Programs\\Python\\Python39\\lib\\site-packages\\sklearn\\linear_model\\_sag.py:350: ConvergenceWarning: The max_iter was reached which means the coef_ did not converge\n",
      "  warnings.warn(\n",
      "\n"
     ]
    },
    {
     "name": "stdout",
     "output_type": "stream",
     "text": [
      " 45%|████▌     | 9/20 [00:03<00:03,  3.27trial/s, best loss: -0.9852941176470588]"
     ]
    },
    {
     "name": "stderr",
     "output_type": "stream",
     "text": [
      "c:\\Users\\oikuz\\AppData\\Local\\Programs\\Python\\Python39\\lib\\site-packages\\sklearn\\linear_model\\_sag.py:350: ConvergenceWarning: The max_iter was reached which means the coef_ did not converge\n",
      "  warnings.warn(\n",
      "\n"
     ]
    },
    {
     "name": "stdout",
     "output_type": "stream",
     "text": [
      " 50%|█████     | 10/20 [00:04<00:04,  2.34trial/s, best loss: -0.9852941176470588]"
     ]
    },
    {
     "name": "stderr",
     "output_type": "stream",
     "text": [
      "c:\\Users\\oikuz\\AppData\\Local\\Programs\\Python\\Python39\\lib\\site-packages\\sklearn\\linear_model\\_sag.py:350: ConvergenceWarning: The max_iter was reached which means the coef_ did not converge\n",
      "  warnings.warn(\n",
      "\n"
     ]
    },
    {
     "name": "stdout",
     "output_type": "stream",
     "text": [
      " 60%|██████    | 12/20 [00:04<00:03,  2.56trial/s, best loss: -0.9852941176470588]"
     ]
    },
    {
     "name": "stderr",
     "output_type": "stream",
     "text": [
      "c:\\Users\\oikuz\\AppData\\Local\\Programs\\Python\\Python39\\lib\\site-packages\\sklearn\\linear_model\\_sag.py:350: ConvergenceWarning: The max_iter was reached which means the coef_ did not converge\n",
      "  warnings.warn(\n",
      "\n"
     ]
    },
    {
     "name": "stdout",
     "output_type": "stream",
     "text": [
      " 70%|███████   | 14/20 [00:05<00:02,  2.40trial/s, best loss: -0.9852941176470588]"
     ]
    },
    {
     "name": "stderr",
     "output_type": "stream",
     "text": [
      "c:\\Users\\oikuz\\AppData\\Local\\Programs\\Python\\Python39\\lib\\site-packages\\sklearn\\linear_model\\_sag.py:350: ConvergenceWarning: The max_iter was reached which means the coef_ did not converge\n",
      "  warnings.warn(\n",
      "\n"
     ]
    },
    {
     "name": "stdout",
     "output_type": "stream",
     "text": [
      " 75%|███████▌  | 15/20 [00:06<00:02,  1.87trial/s, best loss: -0.9852941176470588]"
     ]
    },
    {
     "name": "stderr",
     "output_type": "stream",
     "text": [
      "c:\\Users\\oikuz\\AppData\\Local\\Programs\\Python\\Python39\\lib\\site-packages\\sklearn\\linear_model\\_sag.py:350: ConvergenceWarning: The max_iter was reached which means the coef_ did not converge\n",
      "  warnings.warn(\n",
      "\n"
     ]
    },
    {
     "name": "stdout",
     "output_type": "stream",
     "text": [
      " 85%|████████▌ | 17/20 [00:07<00:01,  2.17trial/s, best loss: -0.9902439024390245]"
     ]
    },
    {
     "name": "stderr",
     "output_type": "stream",
     "text": [
      "c:\\Users\\oikuz\\AppData\\Local\\Programs\\Python\\Python39\\lib\\site-packages\\sklearn\\linear_model\\_sag.py:350: ConvergenceWarning: The max_iter was reached which means the coef_ did not converge\n",
      "  warnings.warn(\n",
      "\n"
     ]
    },
    {
     "name": "stdout",
     "output_type": "stream",
     "text": [
      " 90%|█████████ | 18/20 [00:08<00:01,  1.86trial/s, best loss: -0.9902439024390245]"
     ]
    },
    {
     "name": "stderr",
     "output_type": "stream",
     "text": [
      "c:\\Users\\oikuz\\AppData\\Local\\Programs\\Python\\Python39\\lib\\site-packages\\sklearn\\linear_model\\_sag.py:350: ConvergenceWarning: The max_iter was reached which means the coef_ did not converge\n",
      "  warnings.warn(\n",
      "\n"
     ]
    },
    {
     "name": "stdout",
     "output_type": "stream",
     "text": [
      "100%|██████████| 20/20 [00:09<00:00,  2.14trial/s, best loss: -0.9902439024390245]\n",
      "Наилучшие значения гиперпараметров {'C': 0.9878598398404349, 'penalty': 1, 'solver': 0}\n",
      "CPU times: total: 7.92 s\n",
      "Wall time: 9.37 s\n"
     ]
    },
    {
     "name": "stderr",
     "output_type": "stream",
     "text": [
      "c:\\Users\\oikuz\\AppData\\Local\\Programs\\Python\\Python39\\lib\\site-packages\\sklearn\\linear_model\\_sag.py:350: ConvergenceWarning: The max_iter was reached which means the coef_ did not converge\n",
      "  warnings.warn(\n",
      "\n"
     ]
    }
   ],
   "source": [
    "%%time\n",
    "\n",
    "trials = Trials() # используется для логирования результатов\n",
    "\n",
    "# зададим пространство поиска гиперпараметров\n",
    "pen = ['l1', 'l2']\n",
    "sol = ['liblinear', 'saga']\n",
    "space_lr={'penalty': hp.choice('penalty', ['l1', 'l2']), # тип регуляризации\n",
    "       'solver': hp.choice('solver', ['liblinear', 'saga']), # алгоритм оптимизации\n",
    "       'C': hp.uniform('C', low=0.01, high=1) # уровень силы регурялизации\n",
    "      }\n",
    "best=fmin(hyperopt_lr, # наша функция \n",
    "          space=space_lr, # пространство гиперпараметров\n",
    "          algo=tpe.suggest, # алгоритм оптимизации, установлен по умолчанию, задавать необязательно\n",
    "          max_evals=20, # максимальное количество итераций\n",
    "          trials=trials, # логирование результатов\n",
    "          rstate=np.random.default_rng(random_state)# фиксируем для повторяемости результата\n",
    "         )\n",
    "print(\"Наилучшие значения гиперпараметров {}\".format(best))\n",
    "\n",
    "# model = linear_model.LogisticRegression(\n",
    "#     random_state = random_state, \n",
    "#     penalty = str(best['penalty']),\n",
    "#     solver = str(best['solver']),\n",
    "#     C = float(best['C'])\n",
    "# )\n",
    "# model.fit(X_valid, y_valid)\n",
    "# y_valid_pred = model.predict(X_train_scaled)\n",
    "# print('f1_score на обучающем наборе: {:.2f}'.format(metrics.f1_score(y_valid, y_valid_pred)))\n",
    "# y_test_pred = model.predict(X_test)\n",
    "# print('f1_score на тестовом наборе: {:.2f}'.format(metrics.f1_score(y_test, y_test_pred)))"
   ]
  },
  {
   "cell_type": "code",
   "execution_count": 72,
   "metadata": {},
   "outputs": [
    {
     "name": "stdout",
     "output_type": "stream",
     "text": [
      "f1_score на обучающем наборе: 0.99\n",
      "accuracy на тестовом наборе: 0.83\n",
      "f1_score на тестовом наборе: 0.84\n"
     ]
    }
   ],
   "source": [
    "# рассчитаем точность для тестовой выборки\n",
    "model = linear_model.LogisticRegression(\n",
    "    random_state=random_state, \n",
    "    penalty=pen[best['penalty']],\n",
    "    solver=sol[best['solver']],\n",
    "    C=float(best['C'])\n",
    ")\n",
    "model.fit(X_valid, y_valid)\n",
    "y_valid_pred = model.predict(X_valid)\n",
    "print('f1_score на обучающем наборе: {:.2f}'.format(metrics.f1_score(y_valid, y_valid_pred)))\n",
    "print(\"accuracy на тестовом наборе: {:.2f}\".format(model.score(X_test, y_test)))\n",
    "y_test_pred = model.predict(X_test)\n",
    "print('f1_score на тестовом наборе: {:.2f}'.format(metrics.f1_score(y_test, y_test_pred)))"
   ]
  },
  {
   "attachments": {},
   "cell_type": "markdown",
   "metadata": {},
   "source": [
    "С помощью метода Hyperopt на данный момент получили самое высокое значение метрики"
   ]
  },
  {
   "attachments": {},
   "cell_type": "markdown",
   "metadata": {},
   "source": [
    "Подберем гиперпараметры методом Hyperopt для случайного леса"
   ]
  },
  {
   "cell_type": "code",
   "execution_count": 79,
   "metadata": {},
   "outputs": [],
   "source": [
    "# зададим пространство поиска гиперпараметров\n",
    "space_rf={'n_estimators': hp.quniform('n_estimators', 100, 200, 1),\n",
    "       'max_depth' : hp.quniform('max_depth', 15, 26, 1),\n",
    "       'min_samples_leaf': hp.quniform('min_samples_leaf', 2, 10, 1)\n",
    "      }\n",
    "\n",
    "# зафксируем random_state\n",
    "random_state = 42\n",
    "def hyperopt_rf(params, cv=5, X=X_valid, y=y_valid, random_state=random_state):\n",
    "    # функция получает комбинацию гиперпараметров в \"params\"\n",
    "    params = {'n_estimators': int(params['n_estimators']), \n",
    "              'max_depth': int(params['max_depth']), \n",
    "              'min_samples_leaf': int(params['min_samples_leaf'])\n",
    "              }\n",
    "  \n",
    "    # используем эту комбинацию для построения модели\n",
    "    model = ensemble.RandomForestClassifier(**params, random_state=random_state)\n",
    "\n",
    "    # обучаем модель\n",
    "    model.fit(X, y)\n",
    "    score = metrics.f1_score(y, model.predict(X))\n",
    "    \n",
    "    # обучать модель можно также с помощью кросс-валидации\n",
    "    # применим  cross validation с тем же количеством фолдов\n",
    "    # score = cross_val_score(model, X, y, cv=cv, scoring=\"f1\", n_jobs=-1).mean()\n",
    "\n",
    "    # метрику необходимо минимизировать, поэтому ставим знак минус\n",
    "    return -score"
   ]
  },
  {
   "cell_type": "code",
   "execution_count": 81,
   "metadata": {},
   "outputs": [
    {
     "name": "stdout",
     "output_type": "stream",
     "text": [
      "100%|██████████| 20/20 [00:07<00:00,  2.73trial/s, best loss: -1.0]               \n",
      "Наилучшие значения гиперпараметров {'max_depth': 18.0, 'min_samples_leaf': 2.0, 'n_estimators': 103.0}\n",
      "CPU times: total: 6.06 s\n",
      "Wall time: 7.34 s\n"
     ]
    }
   ],
   "source": [
    "%%time\n",
    "\n",
    "trials = Trials() # используется для логирования результатов\n",
    "\n",
    "best=fmin(hyperopt_rf, # наша функция \n",
    "          space=space_rf, # пространство гиперпараметров\n",
    "          algo=tpe.suggest, # алгоритм оптимизации, установлен по умолчанию, задавать необязательно\n",
    "          max_evals=20, # максимальное количество итераций\n",
    "          trials=trials, # логирование результатов\n",
    "          rstate=np.random.default_rng(random_state)# фиксируем для повторяемости результата\n",
    "         )\n",
    "print(\"Наилучшие значения гиперпараметров {}\".format(best))"
   ]
  },
  {
   "cell_type": "code",
   "execution_count": 82,
   "metadata": {},
   "outputs": [
    {
     "name": "stdout",
     "output_type": "stream",
     "text": [
      "f1_score на обучающем наборе: 1.00\n",
      "accuracy на тестовом наборе: 0.87\n",
      "f1_score на тестовом наборе: 0.88\n"
     ]
    }
   ],
   "source": [
    "# рассчитаем точность для тестовой выборки\n",
    "model = ensemble.RandomForestClassifier(\n",
    "    random_state=random_state, \n",
    "    n_estimators=int(best['n_estimators']),\n",
    "    max_depth=int(best['max_depth']),\n",
    "    min_samples_leaf=int(best['min_samples_leaf'])\n",
    ")\n",
    "model.fit(X_valid, y_valid)\n",
    "y_valid_pred = model.predict(X_valid)\n",
    "print('f1_score на обучающем наборе: {:.2f}'.format(metrics.f1_score(y_valid, y_valid_pred)))\n",
    "print(\"accuracy на тестовом наборе: {:.2f}\".format(model.score(X_test, y_test)))\n",
    "y_test_pred = model.predict(X_test)\n",
    "print('f1_score на тестовом наборе: {:.2f}'.format(metrics.f1_score(y_test, y_test_pred)))"
   ]
  },
  {
   "attachments": {},
   "cell_type": "markdown",
   "metadata": {},
   "source": [
    "Для случайного леса hyperopt также показал наилучший результат"
   ]
  },
  {
   "attachments": {},
   "cell_type": "markdown",
   "metadata": {},
   "source": [
    "Подберем гиперпараметры методом Optuna для логистической регрессии"
   ]
  },
  {
   "cell_type": "code",
   "execution_count": 83,
   "metadata": {},
   "outputs": [
    {
     "name": "stdout",
     "output_type": "stream",
     "text": [
      "Версия Optuna: 3.1.0\n"
     ]
    }
   ],
   "source": [
    "import optuna\n",
    "\n",
    "print(\"Версия Optuna: {}\".format(optuna.__version__))"
   ]
  },
  {
   "cell_type": "code",
   "execution_count": 88,
   "metadata": {},
   "outputs": [
    {
     "name": "stderr",
     "output_type": "stream",
     "text": [
      "\u001b[32m[I 2023-03-25 19:00:44,933]\u001b[0m A new study created in memory with name: LogisticRegression\u001b[0m\n",
      "\u001b[32m[I 2023-03-25 19:00:45,036]\u001b[0m Trial 0 finished with value: 0.9607843137254901 and parameters: {'penalty': 'l1', 'solver': 'liblinear', 'C': 0.93}. Best is trial 0 with value: 0.9607843137254901.\u001b[0m\n",
      "c:\\Users\\oikuz\\AppData\\Local\\Programs\\Python\\Python39\\lib\\site-packages\\sklearn\\linear_model\\_sag.py:350: ConvergenceWarning: The max_iter was reached which means the coef_ did not converge\n",
      "  warnings.warn(\n",
      "\u001b[32m[I 2023-03-25 19:00:45,784]\u001b[0m Trial 1 finished with value: 0.9680589680589682 and parameters: {'penalty': 'l2', 'solver': 'saga', 'C': 0.19}. Best is trial 1 with value: 0.9680589680589682.\u001b[0m\n",
      "\u001b[32m[I 2023-03-25 19:00:45,840]\u001b[0m Trial 2 finished with value: 0.926470588235294 and parameters: {'penalty': 'l1', 'solver': 'liblinear', 'C': 0.61}. Best is trial 1 with value: 0.9680589680589682.\u001b[0m\n",
      "\u001b[32m[I 2023-03-25 19:00:45,899]\u001b[0m Trial 3 finished with value: 0.9533169533169533 and parameters: {'penalty': 'l1', 'solver': 'liblinear', 'C': 0.8}. Best is trial 1 with value: 0.9680589680589682.\u001b[0m\n",
      "c:\\Users\\oikuz\\AppData\\Local\\Programs\\Python\\Python39\\lib\\site-packages\\sklearn\\linear_model\\_sag.py:350: ConvergenceWarning: The max_iter was reached which means the coef_ did not converge\n",
      "  warnings.warn(\n",
      "\u001b[32m[I 2023-03-25 19:00:46,829]\u001b[0m Trial 4 finished with value: 0.8028846153846154 and parameters: {'penalty': 'l1', 'solver': 'saga', 'C': 0.24000000000000002}. Best is trial 1 with value: 0.9680589680589682.\u001b[0m\n",
      "\u001b[32m[I 2023-03-25 19:00:46,885]\u001b[0m Trial 5 finished with value: 0.8687350835322196 and parameters: {'penalty': 'l1', 'solver': 'liblinear', 'C': 0.37}. Best is trial 1 with value: 0.9680589680589682.\u001b[0m\n",
      "c:\\Users\\oikuz\\AppData\\Local\\Programs\\Python\\Python39\\lib\\site-packages\\sklearn\\linear_model\\_sag.py:350: ConvergenceWarning: The max_iter was reached which means the coef_ did not converge\n",
      "  warnings.warn(\n",
      "\u001b[32m[I 2023-03-25 19:00:47,843]\u001b[0m Trial 6 finished with value: 0.9046454767726161 and parameters: {'penalty': 'l1', 'solver': 'saga', 'C': 0.5800000000000001}. Best is trial 1 with value: 0.9680589680589682.\u001b[0m\n",
      "c:\\Users\\oikuz\\AppData\\Local\\Programs\\Python\\Python39\\lib\\site-packages\\sklearn\\linear_model\\_sag.py:350: ConvergenceWarning: The max_iter was reached which means the coef_ did not converge\n",
      "  warnings.warn(\n",
      "\u001b[32m[I 2023-03-25 19:00:48,432]\u001b[0m Trial 7 finished with value: 0.9507389162561576 and parameters: {'penalty': 'l2', 'solver': 'saga', 'C': 0.11}. Best is trial 1 with value: 0.9680589680589682.\u001b[0m\n",
      "c:\\Users\\oikuz\\AppData\\Local\\Programs\\Python\\Python39\\lib\\site-packages\\sklearn\\linear_model\\_sag.py:350: ConvergenceWarning: The max_iter was reached which means the coef_ did not converge\n",
      "  warnings.warn(\n",
      "\u001b[32m[I 2023-03-25 19:00:48,996]\u001b[0m Trial 8 finished with value: 0.9778869778869779 and parameters: {'penalty': 'l2', 'solver': 'saga', 'C': 0.6}. Best is trial 8 with value: 0.9778869778869779.\u001b[0m\n",
      "c:\\Users\\oikuz\\AppData\\Local\\Programs\\Python\\Python39\\lib\\site-packages\\sklearn\\linear_model\\_sag.py:350: ConvergenceWarning: The max_iter was reached which means the coef_ did not converge\n",
      "  warnings.warn(\n",
      "\u001b[32m[I 2023-03-25 19:00:49,748]\u001b[0m Trial 9 finished with value: 0.7804878048780488 and parameters: {'penalty': 'l1', 'solver': 'saga', 'C': 0.18000000000000002}. Best is trial 8 with value: 0.9778869778869779.\u001b[0m\n",
      "c:\\Users\\oikuz\\AppData\\Local\\Programs\\Python\\Python39\\lib\\site-packages\\sklearn\\linear_model\\_sag.py:350: ConvergenceWarning: The max_iter was reached which means the coef_ did not converge\n",
      "  warnings.warn(\n",
      "\u001b[32m[I 2023-03-25 19:00:50,344]\u001b[0m Trial 10 finished with value: 0.9778869778869779 and parameters: {'penalty': 'l2', 'solver': 'saga', 'C': 0.74}. Best is trial 8 with value: 0.9778869778869779.\u001b[0m\n",
      "c:\\Users\\oikuz\\AppData\\Local\\Programs\\Python\\Python39\\lib\\site-packages\\sklearn\\linear_model\\_sag.py:350: ConvergenceWarning: The max_iter was reached which means the coef_ did not converge\n",
      "  warnings.warn(\n",
      "\u001b[32m[I 2023-03-25 19:00:50,935]\u001b[0m Trial 11 finished with value: 0.9778869778869779 and parameters: {'penalty': 'l2', 'solver': 'saga', 'C': 0.76}. Best is trial 8 with value: 0.9778869778869779.\u001b[0m\n",
      "c:\\Users\\oikuz\\AppData\\Local\\Programs\\Python\\Python39\\lib\\site-packages\\sklearn\\linear_model\\_sag.py:350: ConvergenceWarning: The max_iter was reached which means the coef_ did not converge\n",
      "  warnings.warn(\n",
      "\u001b[32m[I 2023-03-25 19:00:51,511]\u001b[0m Trial 12 finished with value: 0.9754901960784313 and parameters: {'penalty': 'l2', 'solver': 'saga', 'C': 0.5}. Best is trial 8 with value: 0.9778869778869779.\u001b[0m\n",
      "c:\\Users\\oikuz\\AppData\\Local\\Programs\\Python\\Python39\\lib\\site-packages\\sklearn\\linear_model\\_sag.py:350: ConvergenceWarning: The max_iter was reached which means the coef_ did not converge\n",
      "  warnings.warn(\n",
      "\u001b[32m[I 2023-03-25 19:00:52,202]\u001b[0m Trial 13 finished with value: 0.9778869778869779 and parameters: {'penalty': 'l2', 'solver': 'saga', 'C': 0.73}. Best is trial 8 with value: 0.9778869778869779.\u001b[0m\n",
      "c:\\Users\\oikuz\\AppData\\Local\\Programs\\Python\\Python39\\lib\\site-packages\\sklearn\\linear_model\\_sag.py:350: ConvergenceWarning: The max_iter was reached which means the coef_ did not converge\n",
      "  warnings.warn(\n",
      "\u001b[32m[I 2023-03-25 19:00:52,801]\u001b[0m Trial 14 finished with value: 0.9778869778869779 and parameters: {'penalty': 'l2', 'solver': 'saga', 'C': 0.99}. Best is trial 8 with value: 0.9778869778869779.\u001b[0m\n",
      "c:\\Users\\oikuz\\AppData\\Local\\Programs\\Python\\Python39\\lib\\site-packages\\sklearn\\linear_model\\_sag.py:350: ConvergenceWarning: The max_iter was reached which means the coef_ did not converge\n",
      "  warnings.warn(\n",
      "\u001b[32m[I 2023-03-25 19:00:53,386]\u001b[0m Trial 15 finished with value: 0.972972972972973 and parameters: {'penalty': 'l2', 'solver': 'saga', 'C': 0.39}. Best is trial 8 with value: 0.9778869778869779.\u001b[0m\n",
      "c:\\Users\\oikuz\\AppData\\Local\\Programs\\Python\\Python39\\lib\\site-packages\\sklearn\\linear_model\\_sag.py:350: ConvergenceWarning: The max_iter was reached which means the coef_ did not converge\n",
      "  warnings.warn(\n",
      "\u001b[32m[I 2023-03-25 19:00:53,987]\u001b[0m Trial 16 finished with value: 0.9778869778869779 and parameters: {'penalty': 'l2', 'solver': 'saga', 'C': 0.65}. Best is trial 8 with value: 0.9778869778869779.\u001b[0m\n",
      "c:\\Users\\oikuz\\AppData\\Local\\Programs\\Python\\Python39\\lib\\site-packages\\sklearn\\linear_model\\_sag.py:350: ConvergenceWarning: The max_iter was reached which means the coef_ did not converge\n",
      "  warnings.warn(\n",
      "\u001b[32m[I 2023-03-25 19:00:54,570]\u001b[0m Trial 17 finished with value: 0.9778869778869779 and parameters: {'penalty': 'l2', 'solver': 'saga', 'C': 0.8400000000000001}. Best is trial 8 with value: 0.9778869778869779.\u001b[0m\n",
      "\u001b[32m[I 2023-03-25 19:00:54,629]\u001b[0m Trial 18 finished with value: 0.9778869778869779 and parameters: {'penalty': 'l2', 'solver': 'liblinear', 'C': 0.45}. Best is trial 8 with value: 0.9778869778869779.\u001b[0m\n",
      "c:\\Users\\oikuz\\AppData\\Local\\Programs\\Python\\Python39\\lib\\site-packages\\sklearn\\linear_model\\_sag.py:350: ConvergenceWarning: The max_iter was reached which means the coef_ did not converge\n",
      "  warnings.warn(\n",
      "\u001b[32m[I 2023-03-25 19:00:55,213]\u001b[0m Trial 19 finished with value: 0.9778869778869779 and parameters: {'penalty': 'l2', 'solver': 'saga', 'C': 0.68}. Best is trial 8 with value: 0.9778869778869779.\u001b[0m\n"
     ]
    },
    {
     "name": "stdout",
     "output_type": "stream",
     "text": [
      "Наилучшие значения гиперпараметров {'penalty': 'l2', 'solver': 'saga', 'C': 0.6}\n",
      "f1_score на обучающем наборе: 0.98\n",
      "accuracy на тестовом наборе: 0.82\n",
      "f1_score на тестовом наборе: 0.84\n",
      "CPU times: total: 9.8 s\n",
      "Wall time: 10.9 s\n"
     ]
    },
    {
     "name": "stderr",
     "output_type": "stream",
     "text": [
      "c:\\Users\\oikuz\\AppData\\Local\\Programs\\Python\\Python39\\lib\\site-packages\\sklearn\\linear_model\\_sag.py:350: ConvergenceWarning: The max_iter was reached which means the coef_ did not converge\n",
      "  warnings.warn(\n"
     ]
    }
   ],
   "source": [
    "\n",
    "%%time\n",
    "\n",
    "def optuna_lr(trial):\n",
    "  # задаем пространства поиска гиперпараметров\n",
    "  penalty = trial.suggest_categorical('penalty', ['l1', 'l2']) \n",
    "  solver = trial.suggest_categorical('solver', ['liblinear', 'saga']) \n",
    "  C = trial.suggest_float('C',low=0.01, high=1,step=0.01,log=False)\n",
    "  # создаем модель\n",
    "  model = linear_model.LogisticRegression(penalty=penalty,\n",
    "                            solver=solver,\n",
    "                            C=C,\n",
    "                            random_state=random_state)\n",
    "  # обучаем модель\n",
    "  model.fit(X_valid, y_valid)\n",
    "  score = metrics.f1_score(y_valid, model.predict(X_valid))\n",
    "\n",
    "  return score\n",
    "\n",
    "\n",
    "# cоздаем объект исследования\n",
    "# можем напрямую указать, что нам необходимо максимизировать метрику direction=\"maximize\"\n",
    "study = optuna.create_study(study_name=\"LogisticRegression\", direction=\"maximize\")\n",
    "# ищем лучшую комбинацию гиперпараметров n_trials раз\n",
    "study.optimize(optuna_lr, n_trials=20)\n",
    "\n",
    "print(\"Наилучшие значения гиперпараметров {}\".format(study.best_params))\n",
    "print(\"f1_score на обучающем наборе: {:.2f}\".format(study.best_value))\n",
    "\n",
    "# рассчитаем точность для тестовой выборки\n",
    "model = linear_model.LogisticRegression(**study.best_params,random_state=random_state, )\n",
    "model.fit(X_valid, y_valid)\n",
    "y_test_pred = model.predict(X_test)\n",
    "print(\"accuracy на тестовом наборе: {:.2f}\".format(model.score(X_test, y_test)))\n",
    "y_test_pred = model.predict(X_test)\n",
    "print('f1_score на тестовом наборе: {:.2f}'.format(metrics.f1_score(y_test, y_test_pred)))"
   ]
  },
  {
   "attachments": {},
   "cell_type": "markdown",
   "metadata": {},
   "source": [
    "accuracy чуть ниже, чем при применении hyperopt, f1 на уровне"
   ]
  },
  {
   "attachments": {},
   "cell_type": "markdown",
   "metadata": {},
   "source": [
    "Подберем гиперпараметры методом Optuna для случайного леса"
   ]
  },
  {
   "cell_type": "code",
   "execution_count": 86,
   "metadata": {},
   "outputs": [
    {
     "name": "stderr",
     "output_type": "stream",
     "text": [
      "\u001b[32m[I 2023-03-22 23:13:07,457]\u001b[0m A new study created in memory with name: RandomForestClassifier\u001b[0m\n",
      "\u001b[32m[I 2023-03-22 23:13:07,865]\u001b[0m Trial 0 finished with value: 0.9227053140096618 and parameters: {'n_estimators': 143, 'max_depth': 21, 'min_samples_leaf': 8}. Best is trial 0 with value: 0.9227053140096618.\u001b[0m\n",
      "\u001b[32m[I 2023-03-22 23:13:08,551]\u001b[0m Trial 1 finished with value: 1.0 and parameters: {'n_estimators': 197, 'max_depth': 22, 'min_samples_leaf': 2}. Best is trial 1 with value: 1.0.\u001b[0m\n",
      "\u001b[32m[I 2023-03-22 23:13:08,915]\u001b[0m Trial 2 finished with value: 0.9343065693430657 and parameters: {'n_estimators': 134, 'max_depth': 23, 'min_samples_leaf': 7}. Best is trial 1 with value: 1.0.\u001b[0m\n",
      "\u001b[32m[I 2023-03-22 23:13:09,320]\u001b[0m Trial 3 finished with value: 0.943765281173594 and parameters: {'n_estimators': 149, 'max_depth': 19, 'min_samples_leaf': 6}. Best is trial 1 with value: 1.0.\u001b[0m\n",
      "\u001b[32m[I 2023-03-22 23:13:09,717]\u001b[0m Trial 4 finished with value: 0.9208633093525179 and parameters: {'n_estimators': 156, 'max_depth': 23, 'min_samples_leaf': 9}. Best is trial 1 with value: 1.0.\u001b[0m\n",
      "\u001b[32m[I 2023-03-22 23:13:10,203]\u001b[0m Trial 5 finished with value: 0.9440389294403893 and parameters: {'n_estimators': 187, 'max_depth': 22, 'min_samples_leaf': 7}. Best is trial 1 with value: 1.0.\u001b[0m\n",
      "\u001b[32m[I 2023-03-22 23:13:10,761]\u001b[0m Trial 6 finished with value: 1.0 and parameters: {'n_estimators': 188, 'max_depth': 18, 'min_samples_leaf': 2}. Best is trial 1 with value: 1.0.\u001b[0m\n",
      "\u001b[32m[I 2023-03-22 23:13:11,198]\u001b[0m Trial 7 finished with value: 0.9142857142857144 and parameters: {'n_estimators': 181, 'max_depth': 26, 'min_samples_leaf': 9}. Best is trial 1 with value: 1.0.\u001b[0m\n",
      "\u001b[32m[I 2023-03-22 23:13:11,602]\u001b[0m Trial 8 finished with value: 0.9208633093525179 and parameters: {'n_estimators': 151, 'max_depth': 15, 'min_samples_leaf': 9}. Best is trial 1 with value: 1.0.\u001b[0m\n",
      "\u001b[32m[I 2023-03-22 23:13:12,017]\u001b[0m Trial 9 finished with value: 0.9460784313725491 and parameters: {'n_estimators': 154, 'max_depth': 20, 'min_samples_leaf': 6}. Best is trial 1 with value: 1.0.\u001b[0m\n",
      "\u001b[32m[I 2023-03-22 23:13:12,361]\u001b[0m Trial 10 finished with value: 1.0 and parameters: {'n_estimators': 100, 'max_depth': 25, 'min_samples_leaf': 2}. Best is trial 1 with value: 1.0.\u001b[0m\n",
      "\u001b[32m[I 2023-03-22 23:13:12,905]\u001b[0m Trial 11 finished with value: 1.0 and parameters: {'n_estimators': 200, 'max_depth': 17, 'min_samples_leaf': 2}. Best is trial 1 with value: 1.0.\u001b[0m\n",
      "\u001b[32m[I 2023-03-22 23:13:13,352]\u001b[0m Trial 12 finished with value: 0.9754901960784313 and parameters: {'n_estimators': 178, 'max_depth': 18, 'min_samples_leaf': 4}. Best is trial 1 with value: 1.0.\u001b[0m\n",
      "\u001b[32m[I 2023-03-22 23:13:13,848]\u001b[0m Trial 13 finished with value: 0.9704433497536946 and parameters: {'n_estimators': 200, 'max_depth': 16, 'min_samples_leaf': 4}. Best is trial 1 with value: 1.0.\u001b[0m\n",
      "\u001b[32m[I 2023-03-22 23:13:14,289]\u001b[0m Trial 14 finished with value: 0.9680589680589682 and parameters: {'n_estimators': 172, 'max_depth': 19, 'min_samples_leaf': 4}. Best is trial 1 with value: 1.0.\u001b[0m\n",
      "\u001b[32m[I 2023-03-22 23:13:14,725]\u001b[0m Trial 15 finished with value: 0.9877149877149877 and parameters: {'n_estimators': 166, 'max_depth': 24, 'min_samples_leaf': 3}. Best is trial 1 with value: 1.0.\u001b[0m\n",
      "\u001b[32m[I 2023-03-22 23:13:15,220]\u001b[0m Trial 16 finished with value: 0.9901477832512315 and parameters: {'n_estimators': 191, 'max_depth': 21, 'min_samples_leaf': 3}. Best is trial 1 with value: 1.0.\u001b[0m\n",
      "\u001b[32m[I 2023-03-22 23:13:15,583]\u001b[0m Trial 17 finished with value: 1.0 and parameters: {'n_estimators': 129, 'max_depth': 17, 'min_samples_leaf': 2}. Best is trial 1 with value: 1.0.\u001b[0m\n",
      "\u001b[32m[I 2023-03-22 23:13:15,998]\u001b[0m Trial 18 finished with value: 0.9535452322738386 and parameters: {'n_estimators': 166, 'max_depth': 20, 'min_samples_leaf': 5}. Best is trial 1 with value: 1.0.\u001b[0m\n",
      "\u001b[32m[I 2023-03-22 23:13:16,316]\u001b[0m Trial 19 finished with value: 0.9877149877149877 and parameters: {'n_estimators': 112, 'max_depth': 22, 'min_samples_leaf': 3}. Best is trial 1 with value: 1.0.\u001b[0m\n"
     ]
    },
    {
     "name": "stdout",
     "output_type": "stream",
     "text": [
      "Наилучшие значения гиперпараметров {'n_estimators': 197, 'max_depth': 22, 'min_samples_leaf': 2}\n",
      "f1_score на обучающем наборе: 1.00\n",
      "accuracy на тестовом наборе: 0.87\n",
      "f1_score на тестовом наборе: 0.88\n",
      "CPU times: total: 7.73 s\n",
      "Wall time: 9.54 s\n"
     ]
    }
   ],
   "source": [
    "\n",
    "%%time\n",
    "def optuna_rf(trial):\n",
    "  # задаем пространства поиска гиперпараметров\n",
    "  n_estimators = trial.suggest_int('n_estimators', 100, 200, 1)\n",
    "  max_depth = trial.suggest_int('max_depth', 15, 26, 1)\n",
    "  min_samples_leaf = trial.suggest_int('min_samples_leaf', 2, 10, 1)\n",
    "\n",
    "  # создаем модель\n",
    "  model = ensemble.RandomForestClassifier(n_estimators=n_estimators,\n",
    "                                          max_depth=max_depth,\n",
    "                                          min_samples_leaf=min_samples_leaf,\n",
    "                                          random_state=random_state)\n",
    "  # обучаем модель\n",
    "  model.fit(X_valid, y_valid)\n",
    "  score = metrics.f1_score(y_valid, model.predict(X_valid))\n",
    "\n",
    "  return score\n",
    "\n",
    "\n",
    "# cоздаем объект исследования\n",
    "# можем напрямую указать, что нам необходимо максимизировать метрику direction=\"maximize\"\n",
    "study = optuna.create_study(study_name=\"RandomForestClassifier\", direction=\"maximize\")\n",
    "# ищем лучшую комбинацию гиперпараметров n_trials раз\n",
    "study.optimize(optuna_rf, n_trials=20)\n",
    "\n",
    "print(\"Наилучшие значения гиперпараметров {}\".format(study.best_params))\n",
    "print(\"f1_score на обучающем наборе: {:.2f}\".format(study.best_value))\n",
    "\n",
    "# рассчитаем точность для тестовой выборки\n",
    "model = ensemble.RandomForestClassifier(**study.best_params,random_state=random_state, )\n",
    "model.fit(X_valid, y_valid)\n",
    "y_test_pred = model.predict(X_test)\n",
    "print(\"accuracy на тестовом наборе: {:.2f}\".format(model.score(X_test, y_test)))\n",
    "y_test_pred = model.predict(X_test)\n",
    "print('f1_score на тестовом наборе: {:.2f}'.format(metrics.f1_score(y_test, y_test_pred)))"
   ]
  },
  {
   "attachments": {},
   "cell_type": "markdown",
   "metadata": {},
   "source": [
    "метрики на уровне hyperopt"
   ]
  },
  {
   "attachments": {},
   "cell_type": "markdown",
   "metadata": {},
   "source": [
    "Таким образом, самые высоки метрики получились при применении методов Hyperopt и Optuna"
   ]
  }
 ],
 "metadata": {
  "kernelspec": {
   "display_name": "Python 3",
   "language": "python",
   "name": "python3"
  },
  "language_info": {
   "codemirror_mode": {
    "name": "ipython",
    "version": 3
   },
   "file_extension": ".py",
   "mimetype": "text/x-python",
   "name": "python",
   "nbconvert_exporter": "python",
   "pygments_lexer": "ipython3",
   "version": "3.9.13"
  },
  "orig_nbformat": 4,
  "vscode": {
   "interpreter": {
    "hash": "5d40854a2a65c6ebbbe2a4ac1f6eacc99ac9da587c7ff4224472ec77d5c6015a"
   }
  }
 },
 "nbformat": 4,
 "nbformat_minor": 2
}
